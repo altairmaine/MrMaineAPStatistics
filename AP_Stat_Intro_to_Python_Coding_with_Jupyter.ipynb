{
  "nbformat": 4,
  "nbformat_minor": 0,
  "metadata": {
    "colab": {
      "provenance": [],
      "authorship_tag": "ABX9TyNmsjs2LADgvwr1Uk5sYUEs"
    },
    "kernelspec": {
      "name": "python3",
      "display_name": "Python 3"
    },
    "language_info": {
      "name": "python"
    }
  },
  "cells": [
    {
      "cell_type": "markdown",
      "source": [
        "A Jupyter notebook like this provides a pretty easy platform for being introduced to coding. Basic guidelines:\n",
        "\n",
        "1) It's hard to break anything permanently. If you mess this up badly enough, close the tab, reopen the notebook, and you'll be back to the starting place. Feel free to tinker and try stuff. It's low-stakes!\n",
        "\n",
        "2) If you've done some work and you're part-way to something you're trying to do, but want to experiment - make a copy of the notebook (\"File\" --> \"Save a Copy in Drive\") and mess around in the copy.\n",
        "\n",
        "3) A Jupyter notebook like this has alternating blocks: \"Text\" blocks, like this one, which don't contain any programming, just explanation, and \"Code\" blocks with little pieces of Python code that you can execute a block at a time.\n",
        "\n",
        "4) In a \"Code\" block, lines beginning with \"#\" are comments - they contain text that won't be parsed as programming, and you can include regular text in those lines. I use them for commentary/explanation. You can also use them for troubleshooting - sometimes when you're trying to get things to work you'll want to mess around with including a command or code block, or removing it. Adding or removing a \"#\" is a really fast way to do that. There's a really basic code block below:"
      ],
      "metadata": {
        "id": "1cEPvaDwmx1s"
      }
    },
    {
      "cell_type": "code",
      "execution_count": null,
      "metadata": {
        "id": "_zZ9r_dbmoFY"
      },
      "outputs": [],
      "source": [
        "# This line is a comment, because it starts with a #. It won't do anything. The notebook automatically formats it in green.\n",
        "# You can write anything in a comment line. \"Mr. Maine is short and obnoxious.\" \"2 + 2 = 9\". Whatever you want. It doesn't matter\n",
        "# but can help make code make more sense. Right after this, I'm going to have some extremely basic actual Python code.\n",
        "\n",
        "# The following is a function that performs the extremely complicated operation of adding ten to a number. So fancy.\n",
        "\n",
        "def add_ten(x):\n",
        "  return(x+10)\n",
        "\n",
        "# Let's see if it works. Can we add 10 to 5? There's no way we could do this without software. Stanley is advocating for solving this\n",
        "# using Euler's method. This is unsurprising to people who know Stanley. This is also going to stash a value in the variable \"y\". Bet you\n",
        "# have no idea what that is.\n",
        "\n",
        "y = add_ten(4)\n",
        "add_ten(5)\n",
        "\n",
        "# To make this actually go, hit the little play button at the left end of this code block. Observe that the notebook doesn't say anything\n",
        "# about y, but it did something invisibly in the background. I promise!"
      ]
    },
    {
      "cell_type": "markdown",
      "source": [
        "Code blocks evaluate one at a time and you trigger them manually with the play button. Hopefully you ran the block before this. Now run the one after this. It'll use the value of \"y\" from the previous block, assuming you previously ran it. If you try this one before running the previous block, you'll get an error message."
      ],
      "metadata": {
        "id": "8U3RVLDznRVM"
      }
    },
    {
      "cell_type": "code",
      "source": [
        "# Hmmm. The last block defined \"y\". Let's reuse it and see what happens.\n",
        "\n",
        "add_ten(y)\n",
        "\n",
        "# Once this works, try changing it to do something incredibly complicated. Maybe make it add... 12? 8? The options are endless!"
      ],
      "metadata": {
        "id": "8mPEq64fuTvR"
      },
      "execution_count": null,
      "outputs": []
    },
    {
      "cell_type": "markdown",
      "source": [
        "Python has a fair number of built-in functions that you can use, but a lot of more sophisticated tools in math and graphing and data analysis come from \"libraries\" - these are essentially pieces of code written by other people that you can use if you \"import\" them into your notebook. Particularly useful libraries for the kinds of things we're likely to do in stat include:\n",
        "\n",
        "\"numpy\" - all kinds of math tools. So useful. Python doesn't know what standard deviation is. Numpy does.\n",
        "\n",
        "\"matplotlib\" - loads of graphing tools so you don't have to write basic graphing code from scratch.\n",
        "\n",
        "\"pandas\" - a library specifically designed for data analysis - it has loads of functions specifically designed for stat. It replicates many of the features of \"R\", a specialized statistics programming language. I don't have any personal experience with R so perhaps I shouldn't be badmouthing it, but I'm told it's not wonderful to learn.\n",
        "\n",
        "\"ipywidgets\" - a library with loads of little user interface widgets, if you want to have buttons or sliders or things like that, this means you don't have to write them from scratch.\n",
        "\n",
        "All of these libraries are large and complicated and include numerous functions. They're also pretty widely used - it's easy to search for documentation for any of them. Let's start gently with just a simple example."
      ],
      "metadata": {
        "id": "Stv6O7xVulHn"
      }
    },
    {
      "cell_type": "code",
      "source": [
        "# This won't work. Why? We haven't imported a relevant library yet. Try running it, but expect failure.\n",
        "\n",
        "list_of_numbers = [2,3,4]\n",
        "mean(list_of_numbers)"
      ],
      "metadata": {
        "id": "ZsNYMXKLvC0f"
      },
      "execution_count": null,
      "outputs": []
    },
    {
      "cell_type": "code",
      "source": [
        "# Now let's try something that works. \"mean\" isn't defined in Python, but it's defined in numpy. So let's bring in numpy:\n",
        "\n",
        "import numpy as dofancymath\n",
        "dofancymath.mean(list_of_numbers)"
      ],
      "metadata": {
        "id": "GIL2Nm0bwP2S"
      },
      "execution_count": null,
      "outputs": []
    },
    {
      "cell_type": "markdown",
      "source": [
        "A few things to observe about the blocks above.\n",
        "\n",
        "1) In the first one I defined an \"array\", list_of_numbers. That will be really useful for stat - it stores a whole set of data in a single variable.\n",
        "\n",
        "2) In the second one, during the import, I renamed numpy for my own personal use. You don't HAVE to do that - I could have just said \"import numpy\" and \"numpy.mean(list_of_numbers)\" and that would have worked as well.\n",
        "\n",
        "3) In basic Python, \"mean\" isn't a defined operation, but it's a function that's been defined in numpy. So to invoke it, I need to use the notation above, where I'm indicating that it's from the numpy library."
      ],
      "metadata": {
        "id": "Iqe-kydnxlLB"
      }
    },
    {
      "cell_type": "markdown",
      "source": [
        "Here's your actual assignment. Hopefully it'll be easy. You can Google things or ask for help if you get stuck on something.\n",
        "\n",
        "1) Mess around with the notebook above. Rename variables. Change numbers. Try adding your own little functions. Don't worry about breaking anything irreparably - if you do, you can always just close the tab and open it anew.\n",
        "\n",
        "2) Make your own notebook from scratch.\n",
        "\n",
        "a) In that notebook, define an array (basically a list of numbers or other types of data) of 4 distinct values, name the array something mildly amusing but school-appropriate, and use numpy to compute the mean and standard deviation of that array.\n",
        "\n",
        "b) Also in that notebook, figure out how to use numpy to generate a random integer between 0 and 3, inclusive, with equal probability. Use that to display a random single entry from your array.\n",
        "\n",
        " Take a screenshot after running your code block, and submit that for credit."
      ],
      "metadata": {
        "id": "VCJSPe84yKBL"
      }
    }
  ]
}